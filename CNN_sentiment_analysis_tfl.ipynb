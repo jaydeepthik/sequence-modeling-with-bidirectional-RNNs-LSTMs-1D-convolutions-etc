{
  "nbformat": 4,
  "nbformat_minor": 0,
  "metadata": {
    "colab": {
      "name": "CNN_sentiment_analysis_tfl.ipynb",
      "provenance": [],
      "collapsed_sections": [],
      "include_colab_link": true
    },
    "kernelspec": {
      "name": "python3",
      "display_name": "Python 3"
    },
    "accelerator": "GPU"
  },
  "cells": [
    {
      "cell_type": "markdown",
      "metadata": {
        "id": "view-in-github",
        "colab_type": "text"
      },
      "source": [
        "<a href=\"https://colab.research.google.com/github/jaydeepthik/sequence-modeling-with-bidirectional-RNNs-LSTMs-1D-convolutions-etc/blob/master/CNN_sentiment_analysis_tfl.ipynb\" target=\"_parent\"><img src=\"https://colab.research.google.com/assets/colab-badge.svg\" alt=\"Open In Colab\"/></a>"
      ]
    },
    {
      "cell_type": "code",
      "metadata": {
        "id": "qFwjpNm-cH_u",
        "colab_type": "code",
        "colab": {}
      },
      "source": [
        "import tensorflow as tf\n",
        "import tflearn\n",
        "from  tflearn.layers.core import input_data, dropout, fully_connected\n",
        "from tflearn.layers.conv import conv_1d, global_avg_pool, global_max_pool\n",
        "from tflearn.layers.merge_ops import merge\n",
        "from tflearn.layers.estimator import regression\n",
        "from tflearn.data_utils import pad_sequences\n",
        "from tflearn.datasets import imdb\n",
        "import numpy as np"
      ],
      "execution_count": 0,
      "outputs": []
    },
    {
      "cell_type": "code",
      "metadata": {
        "id": "wb1uxRyRq-Zw",
        "colab_type": "code",
        "colab": {}
      },
      "source": [
        "train, test, _ = imdb.load_data(n_words=10000)\n",
        "X_train, y_train = train\n",
        "X_test, y_test = test\n",
        "\n",
        "y_train = np.reshape(y_train, [-1,1])\n",
        "y_test = np.reshape(y_test, [-1,1])\n",
        "\n",
        "X_train = pad_sequences(X_train, maxlen=100)\n",
        "X_test = pad_sequences(X_test, maxlen=100)"
      ],
      "execution_count": 0,
      "outputs": []
    },
    {
      "cell_type": "code",
      "metadata": {
        "id": "z6wELelrrcDW",
        "colab_type": "code",
        "colab": {
          "base_uri": "https://localhost:8080/",
          "height": 34
        },
        "outputId": "5fd8b2b7-6925-4adb-9484-b542851480b4"
      },
      "source": [
        "X_train.shape, X_test.shape, y_train.shape, y_test.shape"
      ],
      "execution_count": 6,
      "outputs": [
        {
          "output_type": "execute_result",
          "data": {
            "text/plain": [
              "((22500, 100), (2500, 100), (22500, 1), (2500, 1))"
            ]
          },
          "metadata": {
            "tags": []
          },
          "execution_count": 6
        }
      ]
    },
    {
      "cell_type": "code",
      "metadata": {
        "id": "KQ4BR8vireye",
        "colab_type": "code",
        "colab": {
          "base_uri": "https://localhost:8080/",
          "height": 102
        },
        "outputId": "b0551b4e-b772-4013-fcd2-2151f37c0d22"
      },
      "source": [
        "tf.reset_default_graph()\n",
        "net = input_data(shape=[None, 100], name='input_data')\n",
        "net = tflearn.layers.embedding(net, input_dim=10000, output_dim=300)\n",
        "\n",
        "#conv branch1\n",
        "branch1 = conv_1d(net, 100, 3, 1, padding='valid', activation='relu', regularizer='L2')\n",
        "#conv branch2\n",
        "branch2 = conv_1d(net, 100, 4, 1, padding='valid', activation='relu', regularizer='L2')\n",
        "#conv branch3\n",
        "branch3 = conv_1d(net, 100, 5, 1, padding='valid', activation='relu', regularizer='L2')\n",
        "\n",
        "net = merge([branch1, branch2, branch3], axis=1, mode='concat')\n",
        "net = tf.expand_dims(net, 2)\n",
        "net = global_max_pool(net)\n",
        "net = dropout(net, keep_prob=0.50)\n",
        "net = fully_connected(net, 1, activation='sigmoid')\n",
        "\n",
        "net = regression(net, optimizer='adam', loss='binary_crossentropy')\n",
        "\n",
        "model  = tflearn.DNN(net)\n",
        "model.fit(X_train, y_train, n_epoch=10, shuffle=True, validation_set=(X_test, y_test), show_metric=True, batch_size=50)"
      ],
      "execution_count": 21,
      "outputs": [
        {
          "output_type": "stream",
          "text": [
            "Training Step: 4499  | total loss: \u001b[1m\u001b[32m0.55445\u001b[0m\u001b[0m | time: 23.164s\n",
            "| Adam | epoch: 010 | loss: 0.55445 - binary_acc: 0.6934 -- iter: 22450/22500\n",
            "Training Step: 4500  | total loss: \u001b[1m\u001b[32m0.55461\u001b[0m\u001b[0m | time: 24.225s\n",
            "| Adam | epoch: 010 | loss: 0.55461 - binary_acc: 0.7020 | val_loss: 0.63038 - val_acc: 0.6552 -- iter: 22500/22500\n",
            "--\n"
          ],
          "name": "stdout"
        }
      ]
    },
    {
      "cell_type": "code",
      "metadata": {
        "id": "1kq0X5UkxBg2",
        "colab_type": "code",
        "colab": {}
      },
      "source": [
        ""
      ],
      "execution_count": 0,
      "outputs": []
    },
    {
      "cell_type": "code",
      "metadata": {
        "id": "gCq-mwjJ37Sm",
        "colab_type": "code",
        "colab": {}
      },
      "source": [
        ""
      ],
      "execution_count": 0,
      "outputs": []
    }
  ]
}